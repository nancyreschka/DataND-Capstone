{
 "cells": [
  {
   "cell_type": "code",
   "execution_count": 1,
   "metadata": {
    "editable": true
   },
   "outputs": [
    {
     "name": "stdout",
     "output_type": "stream",
     "text": [
      "read i94 label descriptions\n",
      "i94 country codes:289\n",
      "i94 port codes:660\n",
      "i94 mode codes:4\n",
      "i94 addr codes:55\n",
      "i94 visa codes:3\n",
      "Data quality check PASSED for table country_codes with 289 rows.\n",
      "Data quality check PASSED for table port_codes with 660 rows.\n",
      "Data quality check PASSED for table mode_codes with 4 rows.\n",
      "Data quality check PASSED for table state_codes with 55 rows.\n",
      "Data quality check PASSED for table visa_codes with 3 rows.\n",
      "read immigration data\n",
      "immigration data records:3096313\n",
      "immigration data records after cleaning:3096313\n",
      "Data quality check PASSED for table immigration with 3096313 rows.\n",
      "read demographic data\n",
      "demographic data records:2891\n",
      "demographic data records after cleaning:2875\n",
      "Data quality check PASSED for table demographic with 2875 rows.\n",
      "read world temperature data\n",
      "world temperature data records:8599212\n",
      "world temperature data records after cleaning:8235082\n",
      "join world temperature data records with country codes:8235082\n",
      "join world temperature data records with country codes after join:8235082\n",
      "Data quality check PASSED for table temperature with 8235082 rows.\n"
     ]
    }
   ],
   "source": [
    "%run etl_main.py"
   ]
  },
  {
   "cell_type": "code",
   "execution_count": null,
   "metadata": {
    "editable": true
   },
   "outputs": [],
   "source": []
  },
  {
   "cell_type": "code",
   "execution_count": null,
   "metadata": {
    "editable": true
   },
   "outputs": [],
   "source": []
  }
 ],
 "metadata": {
  "kernelspec": {
   "display_name": "Python 3",
   "language": "python",
   "name": "python3"
  },
  "language_info": {
   "codemirror_mode": {
    "name": "ipython",
    "version": 3
   },
   "file_extension": ".py",
   "mimetype": "text/x-python",
   "name": "python",
   "nbconvert_exporter": "python",
   "pygments_lexer": "ipython3",
   "version": "3.6.3"
  }
 },
 "nbformat": 4,
 "nbformat_minor": 4
}
